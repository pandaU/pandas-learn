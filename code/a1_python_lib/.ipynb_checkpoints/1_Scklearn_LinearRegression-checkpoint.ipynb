{
 "cells": [
  {
   "cell_type": "code",
   "execution_count": 1,
   "metadata": {
    "collapsed": true
   },
   "outputs": [],
   "source": [
    "from __future__ import print_function\n",
    "from sklearn import datasets\n",
    "from sklearn.linear_model import LinearRegression\n",
    "import matplotlib.pyplot as plt"
   ]
  },
  {
   "cell_type": "markdown",
   "metadata": {},
   "source": [
    "Load and return the boston house-prices dataset (regression).\n",
    "Samples total\t506\n",
    "Dimensionality\t13\n",
    "Targets\treal 5. - 50."
   ]
  },
  {
   "cell_type": "markdown",
   "metadata": {},
   "source": [
    "\n",
    "波士顿房价数据集（Boston House Price Dataset）包含对房价的预测，以千美元计，给定的条件是房屋及其相邻房屋的详细信息。\n",
    "该数据集是一个回归问题。每个类的观察值数量是均等的，共有 506 个观察，13 个输入变量和1个输出变量。变量名如下：\n",
    "CRIM：城镇人均犯罪率。\n",
    "ZN：住宅用地超过 25000 sq.ft. 的比例。\n",
    "INDUS：城镇非零售商用土地的比例。\n",
    "CHAS：查理斯河空变量（如果边界是河流，则为1；否则为0）。\n",
    "NOX：一氧化氮浓度。\n",
    "RM：住宅平均房间数。\n",
    "AGE：1940 年之前建成的自用房屋比例。\n",
    "DIS：到波士顿五个中心区域的加权距离。\n",
    "RAD：辐射性公路的接近指数。\n",
    "TAX：每 10000 美元的全值财产税率。\n",
    "PTRATIO：城镇师生比例。\n",
    "B：1000（Bk-0.63）^ 2，其中 Bk 指代城镇中黑人的比例。\n",
    "LSTAT：人口中地位低下者的比例。\n",
    "MEDV：自住房的平均房价，以千美元计。\n",
    "预测平均值的基准性能的均方根误差（RMSE）是约 9.21 千美元。\n",
    "数据集前5行的示例如下：\n",
    "\n",
    "\n"
   ]
  },
  {
   "cell_type": "code",
   "execution_count": 3,
   "metadata": {},
   "outputs": [
    {
     "name": "stdout",
     "output_type": "stream",
     "text": [
      "(506, 13)\n",
      "[[6.3200e-03 1.8000e+01 2.3100e+00 0.0000e+00 5.3800e-01 6.5750e+00\n",
      "  6.5200e+01 4.0900e+00 1.0000e+00 2.9600e+02 1.5300e+01 3.9690e+02\n",
      "  4.9800e+00]\n",
      " [2.7310e-02 0.0000e+00 7.0700e+00 0.0000e+00 4.6900e-01 6.4210e+00\n",
      "  7.8900e+01 4.9671e+00 2.0000e+00 2.4200e+02 1.7800e+01 3.9690e+02\n",
      "  9.1400e+00]\n",
      " [2.7290e-02 0.0000e+00 7.0700e+00 0.0000e+00 4.6900e-01 7.1850e+00\n",
      "  6.1100e+01 4.9671e+00 2.0000e+00 2.4200e+02 1.7800e+01 3.9283e+02\n",
      "  4.0300e+00]\n",
      " [3.2370e-02 0.0000e+00 2.1800e+00 0.0000e+00 4.5800e-01 6.9980e+00\n",
      "  4.5800e+01 6.0622e+00 3.0000e+00 2.2200e+02 1.8700e+01 3.9463e+02\n",
      "  2.9400e+00]\n",
      " [6.9050e-02 0.0000e+00 2.1800e+00 0.0000e+00 4.5800e-01 7.1470e+00\n",
      "  5.4200e+01 6.0622e+00 3.0000e+00 2.2200e+02 1.8700e+01 3.9690e+02\n",
      "  5.3300e+00]]\n",
      "[24.  21.6 34.7 33.4 36.2]\n"
     ]
    }
   ],
   "source": [
    "loaded_data = datasets.load_boston()\n",
    "data_X = loaded_data.data\n",
    "data_y = loaded_data.target\n",
    "\n",
    "print(loaded_data.data.shape)\n",
    "print(data_X[0:5])\n",
    "print(data_y[0:5])"
   ]
  },
  {
   "cell_type": "code",
   "execution_count": 4,
   "metadata": {},
   "outputs": [
    {
     "name": "stdout",
     "output_type": "stream",
     "text": [
      "[30.00821269 25.0298606  30.5702317  28.60814055]\n",
      "[24.  21.6 34.7 33.4]\n"
     ]
    }
   ],
   "source": [
    "model = LinearRegression()\n",
    "model.fit(data_X, data_y)\n",
    "print(model.predict(data_X[:4,:]))\n",
    "print(data_y[:4])"
   ]
  },
  {
   "cell_type": "code",
   "execution_count": 5,
   "metadata": {},
   "outputs": [
    {
     "name": "stdout",
     "output_type": "stream",
     "text": [
      "[30.00821269 25.0298606  30.5702317  28.60814055]\n",
      "[24.  21.6 34.7 33.4]\n"
     ]
    }
   ],
   "source": [
    "print(model.predict(data_X[:4,:]))\n",
    "print(data_y[:4])"
   ]
  },
  {
   "cell_type": "code",
   "execution_count": null,
   "metadata": {},
   "outputs": [],
   "source": []
  },
  {
   "cell_type": "code",
   "execution_count": null,
   "metadata": {
    "collapsed": true
   },
   "outputs": [],
   "source": []
  }
 ],
 "metadata": {
  "kernelspec": {
   "display_name": "Python 3",
   "language": "python",
   "name": "python3"
  },
  "language_info": {
   "codemirror_mode": {
    "name": "ipython",
    "version": 3
   },
   "file_extension": ".py",
   "mimetype": "text/x-python",
   "name": "python",
   "nbconvert_exporter": "python",
   "pygments_lexer": "ipython3",
   "version": "3.6.3"
  },
  "widgets": {
   "state": {},
   "version": "1.1.2"
  }
 },
 "nbformat": 4,
 "nbformat_minor": 1
}
